{
 "cells": [
  {
   "cell_type": "code",
   "execution_count": 1,
   "metadata": {},
   "outputs": [],
   "source": [
    "# Import libraries\n",
    "import numpy as np\n",
    "import matplotlib.pyplot as plt\n",
    "import matplotlib.image as mpimg\n",
    "import pandas as pd"
   ]
  },
  {
   "cell_type": "code",
   "execution_count": 2,
   "metadata": {},
   "outputs": [
    {
     "data": {
      "text/html": [
       "<div>\n",
       "<style scoped>\n",
       "    .dataframe tbody tr th:only-of-type {\n",
       "        vertical-align: middle;\n",
       "    }\n",
       "\n",
       "    .dataframe tbody tr th {\n",
       "        vertical-align: top;\n",
       "    }\n",
       "\n",
       "    .dataframe thead th {\n",
       "        text-align: right;\n",
       "    }\n",
       "</style>\n",
       "<table border=\"1\" class=\"dataframe\">\n",
       "  <thead>\n",
       "    <tr style=\"text-align: right;\">\n",
       "      <th></th>\n",
       "      <th>Unnamed: 0</th>\n",
       "      <th>0</th>\n",
       "      <th>1</th>\n",
       "      <th>2</th>\n",
       "      <th>3</th>\n",
       "      <th>4</th>\n",
       "      <th>5</th>\n",
       "      <th>6</th>\n",
       "      <th>7</th>\n",
       "      <th>8</th>\n",
       "      <th>...</th>\n",
       "      <th>52</th>\n",
       "      <th>53</th>\n",
       "      <th>54</th>\n",
       "      <th>55</th>\n",
       "      <th>56</th>\n",
       "      <th>57</th>\n",
       "      <th>58</th>\n",
       "      <th>59</th>\n",
       "      <th>60</th>\n",
       "      <th>label</th>\n",
       "    </tr>\n",
       "  </thead>\n",
       "  <tbody>\n",
       "    <tr>\n",
       "      <th>0</th>\n",
       "      <td>0</td>\n",
       "      <td>300.28</td>\n",
       "      <td>300.30</td>\n",
       "      <td>300.32</td>\n",
       "      <td>300.33</td>\n",
       "      <td>300.35</td>\n",
       "      <td>300.37</td>\n",
       "      <td>300.39</td>\n",
       "      <td>300.41</td>\n",
       "      <td>300.43</td>\n",
       "      <td>...</td>\n",
       "      <td>-20.0</td>\n",
       "      <td>-22.0</td>\n",
       "      <td>-24.0</td>\n",
       "      <td>-14.0</td>\n",
       "      <td>-13.0</td>\n",
       "      <td>-5.0</td>\n",
       "      <td>-21.0</td>\n",
       "      <td>-10.0</td>\n",
       "      <td>226.13</td>\n",
       "      <td>HL</td>\n",
       "    </tr>\n",
       "    <tr>\n",
       "      <th>1</th>\n",
       "      <td>1</td>\n",
       "      <td>300.30</td>\n",
       "      <td>300.32</td>\n",
       "      <td>300.33</td>\n",
       "      <td>300.35</td>\n",
       "      <td>300.37</td>\n",
       "      <td>300.39</td>\n",
       "      <td>300.41</td>\n",
       "      <td>300.43</td>\n",
       "      <td>300.44</td>\n",
       "      <td>...</td>\n",
       "      <td>-22.0</td>\n",
       "      <td>-24.0</td>\n",
       "      <td>-14.0</td>\n",
       "      <td>-13.0</td>\n",
       "      <td>-5.0</td>\n",
       "      <td>-21.0</td>\n",
       "      <td>-10.0</td>\n",
       "      <td>-19.0</td>\n",
       "      <td>176.56</td>\n",
       "      <td>ML</td>\n",
       "    </tr>\n",
       "    <tr>\n",
       "      <th>2</th>\n",
       "      <td>2</td>\n",
       "      <td>300.32</td>\n",
       "      <td>300.33</td>\n",
       "      <td>300.35</td>\n",
       "      <td>300.37</td>\n",
       "      <td>300.39</td>\n",
       "      <td>300.41</td>\n",
       "      <td>300.43</td>\n",
       "      <td>300.44</td>\n",
       "      <td>300.46</td>\n",
       "      <td>...</td>\n",
       "      <td>-24.0</td>\n",
       "      <td>-14.0</td>\n",
       "      <td>-13.0</td>\n",
       "      <td>-5.0</td>\n",
       "      <td>-21.0</td>\n",
       "      <td>-10.0</td>\n",
       "      <td>-19.0</td>\n",
       "      <td>-1.0</td>\n",
       "      <td>150.94</td>\n",
       "      <td>ML</td>\n",
       "    </tr>\n",
       "    <tr>\n",
       "      <th>3</th>\n",
       "      <td>3</td>\n",
       "      <td>300.33</td>\n",
       "      <td>300.35</td>\n",
       "      <td>300.37</td>\n",
       "      <td>300.39</td>\n",
       "      <td>300.41</td>\n",
       "      <td>300.43</td>\n",
       "      <td>300.44</td>\n",
       "      <td>300.46</td>\n",
       "      <td>300.48</td>\n",
       "      <td>...</td>\n",
       "      <td>-14.0</td>\n",
       "      <td>-13.0</td>\n",
       "      <td>-5.0</td>\n",
       "      <td>-21.0</td>\n",
       "      <td>-10.0</td>\n",
       "      <td>-19.0</td>\n",
       "      <td>-1.0</td>\n",
       "      <td>-9.0</td>\n",
       "      <td>106.40</td>\n",
       "      <td>ML</td>\n",
       "    </tr>\n",
       "    <tr>\n",
       "      <th>4</th>\n",
       "      <td>4</td>\n",
       "      <td>300.35</td>\n",
       "      <td>300.37</td>\n",
       "      <td>300.39</td>\n",
       "      <td>300.41</td>\n",
       "      <td>300.43</td>\n",
       "      <td>300.44</td>\n",
       "      <td>300.46</td>\n",
       "      <td>300.48</td>\n",
       "      <td>300.50</td>\n",
       "      <td>...</td>\n",
       "      <td>-13.0</td>\n",
       "      <td>-5.0</td>\n",
       "      <td>-21.0</td>\n",
       "      <td>-10.0</td>\n",
       "      <td>-19.0</td>\n",
       "      <td>-1.0</td>\n",
       "      <td>-9.0</td>\n",
       "      <td>8.0</td>\n",
       "      <td>115.58</td>\n",
       "      <td>ML</td>\n",
       "    </tr>\n",
       "  </tbody>\n",
       "</table>\n",
       "<p>5 rows × 63 columns</p>\n",
       "</div>"
      ],
      "text/plain": [
       "   Unnamed: 0       0       1       2       3       4       5       6       7  \\\n",
       "0           0  300.28  300.30  300.32  300.33  300.35  300.37  300.39  300.41   \n",
       "1           1  300.30  300.32  300.33  300.35  300.37  300.39  300.41  300.43   \n",
       "2           2  300.32  300.33  300.35  300.37  300.39  300.41  300.43  300.44   \n",
       "3           3  300.33  300.35  300.37  300.39  300.41  300.43  300.44  300.46   \n",
       "4           4  300.35  300.37  300.39  300.41  300.43  300.44  300.46  300.48   \n",
       "\n",
       "        8  ...    52    53    54    55    56    57    58    59      60  label  \n",
       "0  300.43  ... -20.0 -22.0 -24.0 -14.0 -13.0  -5.0 -21.0 -10.0  226.13     HL  \n",
       "1  300.44  ... -22.0 -24.0 -14.0 -13.0  -5.0 -21.0 -10.0 -19.0  176.56     ML  \n",
       "2  300.46  ... -24.0 -14.0 -13.0  -5.0 -21.0 -10.0 -19.0  -1.0  150.94     ML  \n",
       "3  300.48  ... -14.0 -13.0  -5.0 -21.0 -10.0 -19.0  -1.0  -9.0  106.40     ML  \n",
       "4  300.50  ... -13.0  -5.0 -21.0 -10.0 -19.0  -1.0  -9.0   8.0  115.58     ML  \n",
       "\n",
       "[5 rows x 63 columns]"
      ]
     },
     "execution_count": 2,
     "metadata": {},
     "output_type": "execute_result"
    }
   ],
   "source": [
    "# load data\n",
    "dataset = pd.read_csv(\"data_with_label.csv\")\n",
    "dataset.head()\n"
   ]
  },
  {
   "cell_type": "code",
   "execution_count": 84,
   "metadata": {},
   "outputs": [],
   "source": [
    "# Input and Output features\n",
    "y=dataset.label\n",
    "X = dataset.drop([\"0\",\"label\"], axis=1)\n",
    "#X = dataset.iloc[:,1:6].values\n",
    "#y = dataset['label'].values\n",
    "#print(y)"
   ]
  },
  {
   "cell_type": "code",
   "execution_count": 85,
   "metadata": {},
   "outputs": [],
   "source": [
    "def normalize(X):\n",
    "    \"\"\"Normalize the given dataset X\n",
    " Args:\n",
    " X: ndarray, dataset\n",
    "\n",
    " Returns:\n",
    " (Xbar, mean, std): tuple of ndarray, Xbar is the normalized dataset\n",
    " with mean 0 and standard deviation 1; mean and std are the\n",
    " mean and standard deviation respectively.\n",
    "\n",
    " Note:\n",
    " You will encounter dimensions where the standard deviation is\n",
    " zero, for those when you do normalization the normalized data\n",
    " will be NaN. Handle this by setting using `std = 1` for those\n",
    " dimensions when doing normalization.\n",
    " \"\"\"\n",
    "    mu = np.mean(X, axis=0) # <-- Q1: Compute the mean of X\n",
    "    std = np.std(X, axis=0)# <-- Q2: Compute the std of X\n",
    "    std_filled = std.copy()\n",
    "    std_filled[std==0] = 1\n",
    "    Xbar = (X-mu)/std_filled\n",
    "     # <-- Q3: Compute the normalized data Xbar\n",
    "    \n",
    "\n",
    "    return Xbar, mu, std "
   ]
  },
  {
   "cell_type": "code",
   "execution_count": 86,
   "metadata": {},
   "outputs": [],
   "source": [
    "X, mu, std = normalize(X)"
   ]
  },
  {
   "cell_type": "code",
   "execution_count": 87,
   "metadata": {},
   "outputs": [],
   "source": [
    "# Split the dataset into train and test\n",
    "from sklearn.model_selection import train_test_split\n",
    "X_train, X_test, y_train, y_test = train_test_split(X, y, test_size=0.2,random_state=24)"
   ]
  },
  {
   "cell_type": "code",
   "execution_count": 183,
   "metadata": {},
   "outputs": [],
   "source": [
    "# Split the dataset into train and test\n",
    "from sklearn.model_selection import train_test_split\n",
    "X_train, X_test, y_train, y_test = train_test_split(X, y, test_size=0.2,random_state=24)"
   ]
  },
  {
   "cell_type": "code",
   "execution_count": 184,
   "metadata": {},
   "outputs": [],
   "source": [
    "results = {}"
   ]
  },
  {
   "cell_type": "code",
   "execution_count": 195,
   "metadata": {},
   "outputs": [
    {
     "name": "stdout",
     "output_type": "stream",
     "text": [
      "Accuracy: 0.9243697478991597\n",
      "Report: \n",
      "              precision    recall  f1-score   support\n",
      "\n",
      "          HL       0.95      0.95      0.95        73\n",
      "          LL       0.88      0.77      0.82        30\n",
      "          ML       0.92      0.97      0.94       102\n",
      "         VHL       0.92      0.92      0.92        24\n",
      "         VLL       1.00      0.78      0.88         9\n",
      "\n",
      "    accuracy                           0.92       238\n",
      "   macro avg       0.93      0.88      0.90       238\n",
      "weighted avg       0.92      0.92      0.92       238\n",
      "\n"
     ]
    },
    {
     "data": {
      "image/png": "[encoded data removed]",
      "text/plain": [
       "<Figure size 432x288 with 2 Axes>"
      ]
     },
     "metadata": {
      "needs_background": "light"
     },
     "output_type": "display_data"
    }
   ],
   "source": [
    "from sklearn.svm import SVC\n",
    "svcclassifier = SVC(kernel='linear', random_state=1)\n",
    "svcclassifier.fit(X_train, y_train)\n",
    "y_pred = svcclassifier.predict(X_test)\n",
    "from sklearn.metrics import classification_report, accuracy_score,confusion_matrix\n",
    "print(\"Accuracy:\", accuracy_score(y_test, y_pred))\n",
    "results['linear'] = accuracy_score(y_test, y_pred)\n",
    "print(\"Report: \")\n",
    "print(classification_report(y_test, y_pred))\n",
    "import seaborn as sns\n",
    "import matplotlib.pyplot as plt     \n",
    "my_tags = [\"VLL\", \"LL\",\"ML\",\"HL\",\"VHL\"]\n",
    "cm = confusion_matrix(y_test, y_pred, my_tags)\n",
    "ax= plt.subplot()\n",
    "sns.heatmap(cm, annot=True, ax = ax); #annot=True to annotate cells\n",
    "\n",
    "# labels, title and ticks\n",
    "ax.set_xlabel('Predicted labels');ax.set_ylabel('True labels'); \n",
    "ax.set_title('Confusion Matrix for Linear kernel'); \n",
    "ax.xaxis.set_ticklabels(my_tags); ax.yaxis.set_ticklabels(my_tags);"
   ]
  },
  {
   "cell_type": "code",
   "execution_count": 196,
   "metadata": {},
   "outputs": [
    {
     "name": "stdout",
     "output_type": "stream",
     "text": [
      "Accuracy: 0.8151260504201681\n",
      "Report: \n",
      "              precision    recall  f1-score   support\n",
      "\n",
      "          HL       0.80      0.86      0.83        73\n",
      "          LL       0.76      0.63      0.69        30\n",
      "          ML       0.82      0.91      0.87       102\n",
      "         VHL       0.88      0.62      0.73        24\n",
      "         VLL       1.00      0.44      0.62         9\n",
      "\n",
      "    accuracy                           0.82       238\n",
      "   macro avg       0.85      0.70      0.75       238\n",
      "weighted avg       0.82      0.82      0.81       238\n",
      "\n"
     ]
    },
    {
     "data": {
      "image/png": "[encoded data removed]",
      "text/plain": [
       "<Figure size 432x288 with 2 Axes>"
      ]
     },
     "metadata": {
      "needs_background": "light"
     },
     "output_type": "display_data"
    }
   ],
   "source": [
    "from sklearn.svm import SVC\n",
    "svcclassifier = SVC(kernel='poly', C=21, gamma=0.0111111, random_state=1)#21 0.011111111111\n",
    "svcclassifier.fit(X_train, y_train)\n",
    "y_pred = svcclassifier.predict(X_test)\n",
    "from sklearn.metrics import classification_report, accuracy_score,confusion_matrix\n",
    "print(\"Accuracy:\", accuracy_score(y_test, y_pred))\n",
    "results['poly'] = accuracy_score(y_test, y_pred)\n",
    "print(\"Report: \")\n",
    "print(classification_report(y_test, y_pred))\n",
    "import seaborn as sns\n",
    "import matplotlib.pyplot as plt     \n",
    "my_tags = [\"VLL\", \"LL\",\"ML\",\"HL\",\"VHL\"]\n",
    "cm = confusion_matrix(y_test, y_pred, my_tags)\n",
    "ax= plt.subplot()\n",
    "sns.heatmap(cm, annot=True, ax = ax); #annot=True to annotate cells\n",
    "\n",
    "# labels, title and ticks\n",
    "ax.set_xlabel('Predicted labels');ax.set_ylabel('True labels'); \n",
    "ax.set_title('Confusion Matrix for polynomial kernel'); \n",
    "ax.xaxis.set_ticklabels(my_tags); ax.yaxis.set_ticklabels(my_tags);"
   ]
  },
  {
   "cell_type": "code",
   "execution_count": 200,
   "metadata": {},
   "outputs": [
    {
     "name": "stdout",
     "output_type": "stream",
     "text": [
      "Accuracy: 0.9369747899159664\n",
      "Report: \n",
      "              precision    recall  f1-score   support\n",
      "\n",
      "          HL       0.93      0.96      0.95        73\n",
      "          LL       0.90      0.87      0.88        30\n",
      "          ML       0.95      0.98      0.97       102\n",
      "         VHL       0.91      0.83      0.87        24\n",
      "         VLL       1.00      0.78      0.88         9\n",
      "\n",
      "    accuracy                           0.94       238\n",
      "   macro avg       0.94      0.88      0.91       238\n",
      "weighted avg       0.94      0.94      0.94       238\n",
      "\n"
     ]
    },
    {
     "data": {
      "image/png": "[encoded data removed]",
      "text/plain": [
       "<Figure size 432x288 with 2 Axes>"
      ]
     },
     "metadata": {
      "needs_background": "light"
     },
     "output_type": "display_data"
    }
   ],
   "source": [
    "## from sklearn.svm import SVC\n",
    "svcclassifier = SVC(kernel='rbf', C=13900, gamma=0.0001, random_state=1)\n",
    "svcclassifier.fit(X_train, y_train)\n",
    "y_pred = svcclassifier.predict(X_test)\n",
    "from sklearn.metrics import classification_report, accuracy_score,confusion_matrix\n",
    "print(\"Accuracy:\", accuracy_score(y_test, y_pred))\n",
    "results['rbf'] = accuracy_score(y_test, y_pred)\n",
    "print(\"Report: \")\n",
    "print(classification_report(y_test, y_pred))\n",
    "import seaborn as sns\n",
    "import matplotlib.pyplot as plt     \n",
    "my_tags = [\"VLL\", \"LL\",\"ML\",\"HL\",\"VHL\"]\n",
    "cm = confusion_matrix(y_test, y_pred, my_tags)\n",
    "ax= plt.subplot()\n",
    "sns.heatmap(cm, annot=True, ax = ax); #annot=True to annotate cells\n",
    "\n",
    "# labels, title and ticks\n",
    "ax.set_xlabel('Predicted labels');ax.set_ylabel('True labels'); \n",
    "ax.set_title('Confusion Matrix for RBF kernel'); \n",
    "ax.xaxis.set_ticklabels(my_tags); ax.yaxis.set_ticklabels(my_tags);"
   ]
  },
  {
   "cell_type": "code",
   "execution_count": 198,
   "metadata": {},
   "outputs": [
    {
     "name": "stdout",
     "output_type": "stream",
     "text": [
      "{'linear': 0.9243697478991597, 'poly': 0.8151260504201681, 'rbf': 0.9369747899159664}\n"
     ]
    }
   ],
   "source": [
    "print(results)"
   ]
  },
  {
   "cell_type": "code",
   "execution_count": null,
   "metadata": {},
   "outputs": [
    {
     "name": "stdout",
     "output_type": "stream",
     "text": [
      "Total length to check for best model and parameters:  57\n"
     ]
    }
   ],
   "source": [
    "from sklearn.model_selection import GridSearchCV\n",
    "from sklearn.model_selection import ParameterGrid\n",
    "param_grid = [{'kernel': ['linear']}, {'kernel': ['poly', 'rbf'], 'C': [0.1, 1,100, 1000],\n",
    "'gamma': [0.0001, 0.001, 0.005, 0.1, 1, 3, 5]}]\n",
    "print(\"Total length to check for best model and parameters: \",len(list(ParameterGrid(param_grid))))\n",
    "gsc = GridSearchCV(SVC(),param_grid,scoring='accuracy',cv=5)\n",
    "grid_result = gsc.fit(X_train, y_train)\n",
    "print(\"Best Parameters: \", grid_result.best_params_)\n",
    "print(\"Best Estimator: \", grid_result.best_estimator_)\n",
    "print(\"Best Score: \", grid_result.best_score_)\n",
    "y_pred = grid_result.predict(X_test)\n",
    "print(\"Accuracy:\", accuracy_score(y_test, y_pred))\n",
    "# results['rbf'] = accuracy_score(y_test, y_pred)\n",
    "print(\"Classification Report: \")\n",
    "print(classification_report(y_test, y_pred))\n",
    "print(\"Confusion Matrix: \")\n",
    "print(confusion_matrix(y_test, y_pred))\n"
   ]
  },
  {
   "cell_type": "code",
   "execution_count": null,
   "metadata": {},
   "outputs": [],
   "source": []
  }
 ],
 "metadata": {
  "kernelspec": {
   "display_name": "Python 3",
   "language": "python",
   "name": "python3"
  },
  "language_info": {
   "codemirror_mode": {
    "name": "ipython",
    "version": 3
   },
   "file_extension": ".py",
   "mimetype": "text/x-python",
   "name": "python",
   "nbconvert_exporter": "python",
   "pygments_lexer": "ipython3",
   "version": "3.7.3"
  }
 },
 "nbformat": 4,
 "nbformat_minor": 2
}
