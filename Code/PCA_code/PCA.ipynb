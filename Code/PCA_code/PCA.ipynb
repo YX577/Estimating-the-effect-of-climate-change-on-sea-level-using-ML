{
 "cells": [
  {
   "cell_type": "code",
   "execution_count": 1,
   "metadata": {},
   "outputs": [],
   "source": [
    "# Import Libraries\n",
    "import sys\n",
    "import numpy as np\n",
    "import pandas as pd\n",
    "import matplotlib as mpl\n",
    "from numpy import genfromtxt\n",
    "import matplotlib.pyplot as plt"
   ]
  },
  {
   "cell_type": "code",
   "execution_count": 2,
   "metadata": {},
   "outputs": [],
   "source": [
    "# Function to normalize the data\n",
    "def normalize(X):\n",
    "    \"\"\"Normalize the given dataset X\n",
    "    Args:\n",
    "        X: ndarray, dataset\n",
    "    \n",
    "    Returns:\n",
    "        (Xbar, mean, std): tuple of ndarray, Xbar is the normalized dataset\n",
    "        with mean 0 and standard deviation 1; mean and std are the \n",
    "        mean and standard deviation respectively.\n",
    "    \"\"\"\n",
    "    mu = np.mean(X, axis=0)             # Compute the mean of X\n",
    "    std = np.std(X, axis=0)             # Compute the std of X\n",
    "    std_filled = std.copy()\n",
    "    std_filled[std==0] = 1.\n",
    "    Xbar = (X-mu)/std_filled            # Compute the normalized data Xbar\n",
    "    return Xbar, mu, std                #return normalized data, mean and std\n"
   ]
  },
  {
   "cell_type": "code",
   "execution_count": 3,
   "metadata": {},
   "outputs": [
    {
     "name": "stdout",
     "output_type": "stream",
     "text": [
      "Shape of Xbar =  (99, 5)\n",
      "Shape of mean =  (5,)\n",
      "Shape of std  =  (5,)\n"
     ]
    }
   ],
   "source": [
    "# Load dataset\n",
    "X = genfromtxt('data.csv',delimiter=',')\n",
    "Xbar, mu, std = normalize(X)            #Call the normalize function\n",
    "print('Shape of Xbar = ',Xbar.shape)\n",
    "print('Shape of mean = ',mu.shape)\n",
    "print('Shape of std  = ',std.shape)"
   ]
  },
  {
   "cell_type": "code",
   "execution_count": 4,
   "metadata": {},
   "outputs": [
    {
     "name": "stdout",
     "output_type": "stream",
     "text": [
      "The shape of covariance matrix =  (5, 5)\n",
      "The trace of covariance matrix =  495.0\n"
     ]
    }
   ],
   "source": [
    "S=0                                    #define covariance matrix\n",
    "pd.DataFrame(Xbar)                                    \n",
    "S = np.matmul(Xbar.T, Xbar)            #calculate covariance matrix=X^T*X\n",
    "print('The shape of covariance matrix = ',S.shape)\n",
    "print('The trace of covariance matrix = ',np.trace(S))"
   ]
  },
  {
   "cell_type": "code",
   "execution_count": 5,
   "metadata": {},
   "outputs": [
    {
     "name": "stdout",
     "output_type": "stream",
     "text": [
      "The covariance matrix : \n",
      "\n",
      "[[99.         98.41673304 20.25065593 42.65365885 91.44525306]\n",
      " [98.41673304 99.         20.09554752 41.9844328  90.63699131]\n",
      " [20.25065593 20.09554752 99.         24.33041975 32.16444645]\n",
      " [42.65365885 41.9844328  24.33041975 99.         47.23449827]\n",
      " [91.44525306 90.63699131 32.16444645 47.23449827 99.        ]]\n",
      "\n",
      "The shape of covariance matrix =  (5, 5)\n",
      "The trace of covariance matrix =  495.0\n"
     ]
    }
   ],
   "source": [
    "#verify covariance matrix its trace with the trace found above\n",
    "from sklearn.preprocessing import StandardScaler#try\n",
    "\n",
    "standardized_data = StandardScaler(with_mean=True,with_std=True)\n",
    "standardized_data = standardized_data.fit_transform(Xbar)\n",
    "sample_data = standardized_data\n",
    "\n",
    "# matrix multiplication using numpy\n",
    "covar_matrix = np.matmul(sample_data.T, sample_data)\n",
    "\n",
    "print(\"The covariance matrix : \\n\")\n",
    "print(covar_matrix)\n",
    "print ( \"\\nThe shape of covariance matrix = \", covar_matrix.shape)\n",
    "print(\"The trace of covariance matrix = \",np.trace(covar_matrix))"
   ]
  },
  {
   "cell_type": "code",
   "execution_count": 6,
   "metadata": {},
   "outputs": [],
   "source": [
    "#Function to compute sorted eigen values and eigen vectors\n",
    "def eig_sorted(S):\n",
    "    \"\"\"Compute the eigenvalues and corresponding eigenvectors \n",
    "        for the covariance matrix S.\n",
    "    Args:\n",
    "        S: ndarray, covariance matrix\n",
    "    \n",
    "    Returns:\n",
    "        (eigvals, eigvecs): ndarray, the eigenvalues and eigenvectors\n",
    "    \"\"\"\n",
    "    eigvals, eigvecs = np.linalg.eig(S)  # calculate eigenvalues and eigen vectors\n",
    "    vals = eigvals.argsort()[::-1]       # sort eigen values and corresponding eigen vectors in descending order\n",
    "    eigvals = eigvals[vals]\n",
    "    eigvecs = eigvecs[:,vals]\n",
    "    return (eigvals,eigvecs)             # return the eigenvalues and corresponding eigenvectors"
   ]
  },
  {
   "cell_type": "code",
   "execution_count": 7,
   "metadata": {},
   "outputs": [],
   "source": [
    "#Function to compute unsorted eigen values and eigen vectors\n",
    "def eig_unsorted(S):\n",
    "    \"\"\"Compute the eigenvalues and corresponding eigenvectors \n",
    "        for the covariance matrix S.\n",
    "    Args:\n",
    "        S: ndarray, covariance matrix\n",
    "    \n",
    "    Returns:\n",
    "        (eigvals, eigvecs): ndarray, the eigenvalues and eigenvectors\n",
    "    \"\"\"\n",
    "    eigvals, eigvecs = np.linalg.eig(S)  # calculate eigenvalues and eigen vectors\n",
    "    return (eigvals,eigvecs)             # return the eigenvalues and corresponding eigenvectors"
   ]
  },
  {
   "cell_type": "code",
   "execution_count": 8,
   "metadata": {},
   "outputs": [
    {
     "name": "stdout",
     "output_type": "stream",
     "text": [
      "The shape of B =  (5, 3)\n",
      "The trace of B =  0.08937304699746162\n"
     ]
    }
   ],
   "source": [
    "# calculate B for num_components = 3\n",
    "eigvals, eigvecs = eig_sorted(S)\n",
    "eigvals_u, eigvecs_u = eig_unsorted(S)\n",
    "num_components = 3\n",
    "B=eigvecs\n",
    "B = np.stack(eigvecs[:,:num_components])\n",
    "print ( \"The shape of B = \", B.shape)\n",
    "print(\"The trace of B = \",np.trace(B))"
   ]
  },
  {
   "cell_type": "code",
   "execution_count": 9,
   "metadata": {},
   "outputs": [
    {
     "data": {
      "image/png": "[encoded data removed]",
      "text/plain": [
       "<Figure size 864x288 with 2 Axes>"
      ]
     },
     "metadata": {
      "needs_background": "light"
     },
     "output_type": "display_data"
    }
   ],
   "source": [
    "#Plot sorted eigen values\n",
    "%matplotlib inline\n",
    "\n",
    "fig=plt.figure(figsize=(12,4))\n",
    "ax = plt.subplot(1,3,1)\n",
    "ax.plot(np.append(np.roll(eigvals,1),eigvals[4]),'-go',linewidth=1);\n",
    "ax.set_xlim(1,6);\n",
    "\n",
    "plt.xlabel('index')\n",
    "plt.ylabel('sorted eigen values')\n",
    "plt.title('sorted eigen values vs index')\n",
    "plt.xticks(np.arange(1,6,1))\n",
    "plt.grid()\n",
    "\n",
    "\n",
    "ax = plt.subplot(1,3,3)\n",
    "ax.plot(np.append(np.roll(eigvals_u,1),eigvals_u[4]),'-go',linewidth=1);\n",
    "ax.set_xlim(1,6);\n",
    "plt.title('unsorted eigen values vs index')\n",
    "plt.xlabel('index')\n",
    "plt.ylabel('unsorted eigen values')\n",
    "plt.xticks(np.arange(1,6,1))\n",
    "plt.grid()\n",
    "plt.tight_layout()\n",
    "plt.show()\n"
   ]
  },
  {
   "cell_type": "code",
   "execution_count": 10,
   "metadata": {},
   "outputs": [],
   "source": [
    "#Function to compute projection matrix P\n",
    "def projection_matrix(B):\n",
    "    \"\"\"Compute the projection matrix onto the space spanned by `B`\n",
    "    Args:\n",
    "        B: ndarray of dimension (D, M), the basis for the subspace\n",
    "    \n",
    "    Returns:\n",
    "        P: the projection matrix\n",
    "    \"\"\"\n",
    "    P = np.matmul(B,B.T) # compute the projection matrix B*B^T\n",
    "    return P \n"
   ]
  },
  {
   "cell_type": "code",
   "execution_count": 11,
   "metadata": {},
   "outputs": [],
   "source": [
    "#Function to compute PCA\n",
    "def PCA(Xbar, num_components):\n",
    "    \"\"\"\n",
    "    Args:\n",
    "        X: ndarray of size (N, D), where D is the dimension of the data,\n",
    "           and N is the number of datapoints\n",
    "        num_components: the number of principal components to use.\n",
    "    Returns:\n",
    "        X_reconstruct: ndarray of the reconstruction\n",
    "        of X from the first `num_components` principal components.\n",
    "        \n",
    "    \"\"\"\n",
    "    #Xbar, mu, std = normalize(X)                # compute normalize data\n",
    "    S = np.matmul(Xbar.T,Xbar)                  # compute covariance matrix\n",
    "    eigvals, eigvecs = eig_sorted(S)            # compute eigen values and eigen vectors\n",
    "    var=eigvals[:num_components].sum()          # compute variance \n",
    "    B = np.stack(eigvecs[:,:num_components])    # compute matrix B\n",
    "    P = np.matmul(B,B.T)                        # compute projection matrix\n",
    "    X_reconstruct = np.matmul(P,Xbar.T)\n",
    "    X_reconstruct = X_reconstruct.T\n",
    "    return X_reconstruct,var                    # return the reconstruction of X"
   ]
  },
  {
   "cell_type": "code",
   "execution_count": 12,
   "metadata": {},
   "outputs": [],
   "source": [
    "#Function to compute PCA\n",
    "def PCA_unsorted(Xbar, num_components):\n",
    "    \"\"\"\n",
    "    Args:\n",
    "        X: ndarray of size (N, D), where D is the dimension of the data,\n",
    "           and N is the number of datapoints\n",
    "        num_components: the number of principal components to use.\n",
    "    Returns:\n",
    "        X_reconstruct: ndarray of the reconstruction\n",
    "        of X from the first `num_components` principal components.\n",
    "        \n",
    "    \"\"\"\n",
    "    #Xbar, mu, std = normalize(X)                # compute normalize data\n",
    "    S = np.matmul(Xbar.T,Xbar)                  # compute covariance matrix\n",
    "    eigvals, eigvecs = eig_unsorted(S)          # compute eigen values and eigen vectors\n",
    "    var=eigvals[:num_components].sum()          # compute variance \n",
    "    B = np.stack(eigvecs[:,:num_components])    # compute matrix B\n",
    "    P = np.matmul(B,B.T)                        # compute projection matrix\n",
    "    X_reconstruct = np.matmul(P,Xbar.T)\n",
    "    X_reconstruct = X_reconstruct.T\n",
    "    return X_reconstruct,var                    # return the reconstruction of X"
   ]
  },
  {
   "cell_type": "code",
   "execution_count": 13,
   "metadata": {},
   "outputs": [],
   "source": [
    "\n",
    "def mse(predict, actual):\n",
    "    \"\"\"\n",
    "    Args:\n",
    "        predict: Predicted values\n",
    "        actual : actual values\n",
    "    Returns:\n",
    "        np.square(predict - actual).sum(axis=1).mean(): the mean squared error (MSE)\n",
    "        \n",
    "    \"\"\"\n",
    "    mse=np.square(predict - actual).sum(axis=1).mean()\n",
    "    return mse"
   ]
  },
  {
   "cell_type": "code",
   "execution_count": 14,
   "metadata": {},
   "outputs": [
    {
     "name": "stdout",
     "output_type": "stream",
     "text": [
      "Shape of loss =  (5, 2)\n",
      "Shape of variance =  (5, 2)\n"
     ]
    }
   ],
   "source": [
    "loss = []\n",
    "loss_unsorted =[]\n",
    "reconstructions = []\n",
    "variance=[]\n",
    "# iterate over different numbers of principal components, and compute the MSE & varianace\n",
    "for num_component in range(1, 6):\n",
    "    reconst,var = PCA(Xbar, num_component)\n",
    "    error = mse(reconst, Xbar)\n",
    "    reconstructions.append(reconst)\n",
    "    loss.append((num_component, error))\n",
    "    variance.append((num_component, var))\n",
    "    reconst_unsorted,var_unsorted = PCA_unsorted(Xbar, num_component)\n",
    "    error_unsorted = mse(reconst_unsorted, Xbar)\n",
    "    loss_unsorted.append((num_component, error_unsorted))\n",
    "\n",
    "    \n",
    "reconstructions = np.asarray(reconstructions)\n",
    "reconstructions = reconstructions * std + mu # \"unnormalize\" the reconstructed image\n",
    "loss = np.asarray(loss)\n",
    "loss_unsorted = np.asarray(loss_unsorted)\n",
    "variance = np.asarray(variance)\n",
    "print('Shape of loss = ',loss.shape)\n",
    "print('Shape of variance = ',variance.shape)"
   ]
  },
  {
   "cell_type": "code",
   "execution_count": 15,
   "metadata": {},
   "outputs": [
    {
     "data": {
      "text/html": [
       "<div>\n",
       "<style scoped>\n",
       "    .dataframe tbody tr th:only-of-type {\n",
       "        vertical-align: middle;\n",
       "    }\n",
       "\n",
       "    .dataframe tbody tr th {\n",
       "        vertical-align: top;\n",
       "    }\n",
       "\n",
       "    .dataframe thead th {\n",
       "        text-align: right;\n",
       "    }\n",
       "</style>\n",
       "<table border=\"1\" class=\"dataframe\">\n",
       "  <thead>\n",
       "    <tr style=\"text-align: right;\">\n",
       "      <th></th>\n",
       "      <th>0</th>\n",
       "      <th>1</th>\n",
       "    </tr>\n",
       "  </thead>\n",
       "  <tbody>\n",
       "    <tr>\n",
       "      <th>0</th>\n",
       "      <td>1.0</td>\n",
       "      <td>1.735383e+00</td>\n",
       "    </tr>\n",
       "    <tr>\n",
       "      <th>1</th>\n",
       "      <td>2.0</td>\n",
       "      <td>7.854925e-01</td>\n",
       "    </tr>\n",
       "    <tr>\n",
       "      <th>2</th>\n",
       "      <td>3.0</td>\n",
       "      <td>9.608802e-02</td>\n",
       "    </tr>\n",
       "    <tr>\n",
       "      <th>3</th>\n",
       "      <td>4.0</td>\n",
       "      <td>5.631709e-03</td>\n",
       "    </tr>\n",
       "    <tr>\n",
       "      <th>4</th>\n",
       "      <td>5.0</td>\n",
       "      <td>3.011837e-30</td>\n",
       "    </tr>\n",
       "  </tbody>\n",
       "</table>\n",
       "</div>"
      ],
      "text/plain": [
       "     0             1\n",
       "0  1.0  1.735383e+00\n",
       "1  2.0  7.854925e-01\n",
       "2  3.0  9.608802e-02\n",
       "3  4.0  5.631709e-03\n",
       "4  5.0  3.011837e-30"
      ]
     },
     "execution_count": 15,
     "metadata": {},
     "output_type": "execute_result"
    }
   ],
   "source": [
    "import pandas as pd\n",
    "# create a table showing the number of principal components and MSE\n",
    "pd.DataFrame(loss).head()"
   ]
  },
  {
   "cell_type": "code",
   "execution_count": 16,
   "metadata": {},
   "outputs": [
    {
     "data": {
      "text/html": [
       "<div>\n",
       "<style scoped>\n",
       "    .dataframe tbody tr th:only-of-type {\n",
       "        vertical-align: middle;\n",
       "    }\n",
       "\n",
       "    .dataframe tbody tr th {\n",
       "        vertical-align: top;\n",
       "    }\n",
       "\n",
       "    .dataframe thead th {\n",
       "        text-align: right;\n",
       "    }\n",
       "</style>\n",
       "<table border=\"1\" class=\"dataframe\">\n",
       "  <thead>\n",
       "    <tr style=\"text-align: right;\">\n",
       "      <th></th>\n",
       "      <th>0</th>\n",
       "      <th>1</th>\n",
       "    </tr>\n",
       "  </thead>\n",
       "  <tbody>\n",
       "    <tr>\n",
       "      <th>0</th>\n",
       "      <td>1.0</td>\n",
       "      <td>323.197098</td>\n",
       "    </tr>\n",
       "    <tr>\n",
       "      <th>1</th>\n",
       "      <td>2.0</td>\n",
       "      <td>417.236243</td>\n",
       "    </tr>\n",
       "    <tr>\n",
       "      <th>2</th>\n",
       "      <td>3.0</td>\n",
       "      <td>485.487286</td>\n",
       "    </tr>\n",
       "    <tr>\n",
       "      <th>3</th>\n",
       "      <td>4.0</td>\n",
       "      <td>494.442461</td>\n",
       "    </tr>\n",
       "    <tr>\n",
       "      <th>4</th>\n",
       "      <td>5.0</td>\n",
       "      <td>495.000000</td>\n",
       "    </tr>\n",
       "  </tbody>\n",
       "</table>\n",
       "</div>"
      ],
      "text/plain": [
       "     0           1\n",
       "0  1.0  323.197098\n",
       "1  2.0  417.236243\n",
       "2  3.0  485.487286\n",
       "3  4.0  494.442461\n",
       "4  5.0  495.000000"
      ]
     },
     "execution_count": 16,
     "metadata": {},
     "output_type": "execute_result"
    }
   ],
   "source": [
    "import pandas as pd\n",
    "# create a table showing the number of principal components and variance\n",
    "pd.DataFrame(variance).head()"
   ]
  },
  {
   "cell_type": "code",
   "execution_count": 17,
   "metadata": {},
   "outputs": [
    {
     "data": {
      "image/png": "[encoded data removed]",
      "text/plain": [
       "<Figure size 1008x288 with 2 Axes>"
      ]
     },
     "metadata": {
      "needs_background": "light"
     },
     "output_type": "display_data"
    }
   ],
   "source": [
    "# Plot MSE vs num of components\n",
    "%matplotlib inline\n",
    "fig=plt.figure(figsize=(14,4))\n",
    "ax = plt.subplot(131)\n",
    "ax.axhline(0, linestyle='--', color='r', linewidth=2)\n",
    "ax.plot(loss[:,0], loss[:,1],'-bs',linewidth=1);\n",
    "ax.set_xlim(1,6);\n",
    "plt.xlabel('num of components')\n",
    "plt.ylabel('MSE')\n",
    "plt.title('MSE vs num of components \\n (for sorted eigen values)')\n",
    "plt.xticks(np.arange(1,6,1))\n",
    "plt.grid()\n",
    "\n",
    "ax = plt.subplot(133)\n",
    "ax.axhline(0, linestyle='--', color='r', linewidth=2)\n",
    "ax.plot(loss_unsorted[:,0], loss_unsorted[:,1],'-bs',linewidth=1);\n",
    "ax.set_xlim(1,6);\n",
    "plt.xlabel('num of components')\n",
    "plt.ylabel('MSE')\n",
    "plt.title('MSE vs num of components \\n (for unsorted eigen values)')\n",
    "plt.xticks(np.arange(1,6,1))\n",
    "plt.grid()\n",
    "plt.show()\n"
   ]
  },
  {
   "cell_type": "code",
   "execution_count": 19,
   "metadata": {},
   "outputs": [
    {
     "data": {
      "image/png": "[encoded data removed]",
      "text/plain": [
       "<Figure size 432x288 with 1 Axes>"
      ]
     },
     "metadata": {
      "needs_background": "light"
     },
     "output_type": "display_data"
    }
   ],
   "source": [
    "# Plot Variance vs num of components\n",
    "%matplotlib inline\n",
    "plt.xlabel('num of components')\n",
    "plt.ylabel('Variance')\n",
    "plt.title('Variance vs num of components')\n",
    "ax = plt.subplot(111)\n",
    "ax.plot(variance[:,0], variance[:,1],'--md',linewidth=1);\n",
    "ax.set_xlim(1,6);\n",
    "plt.xticks(np.arange(1,6,1))\n",
    "plt.grid()\n",
    "plt.show()"
   ]
  },
  {
   "cell_type": "code",
   "execution_count": null,
   "metadata": {},
   "outputs": [],
   "source": []
  },
  {
   "cell_type": "code",
   "execution_count": null,
   "metadata": {},
   "outputs": [],
   "source": []
  }
 ],
 "metadata": {
  "kernelspec": {
   "display_name": "Python 3",
   "language": "python",
   "name": "python3"
  },
  "language_info": {
   "codemirror_mode": {
    "name": "ipython",
    "version": 3
   },
   "file_extension": ".py",
   "mimetype": "text/x-python",
   "name": "python",
   "nbconvert_exporter": "python",
   "pygments_lexer": "ipython3",
   "version": "3.7.3"
  }
 },
 "nbformat": 4,
 "nbformat_minor": 2
}
